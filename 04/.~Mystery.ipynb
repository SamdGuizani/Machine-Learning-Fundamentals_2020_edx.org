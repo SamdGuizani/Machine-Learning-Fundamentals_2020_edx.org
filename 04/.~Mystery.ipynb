{
 "cells": [
  {
   "cell_type": "markdown",
   "metadata": {},
   "source": [
    "# DSE220x - Prog. Assignment 4 - Problem 5\n",
    "\n",
    "The file **mystery.dat** contains pairs $(x,y)$, where $x∈R^{100}$ and  $y∈R$ . There is one data point per line, with comma-separated values; the very last number in each line is the  $y$-value.\n",
    "\n",
    "In this data set,  $y$  is a linear function of just ten of the features in  $x$, plus some noise. Your job is to identify those ten features.\n",
    "\n",
    "Which of the following contain only relevant features?\n",
    "\n",
    "(Think of the feature numbers as being in the range 1 to 100, but be aware that Python indexes arrays starting at zero.)\n",
    "\n",
    "* 1,5,7,19,44\n",
    "* 2,3,13,17,29\n",
    "* 3,7,13,19,44\n",
    "* 5,23,24,51,61"
   ]
  },
  {
   "cell_type": "markdown",
   "metadata": {},
   "source": [
    "## Module import "
   ]
  },
  {
   "cell_type": "code",
   "execution_count": 18,
   "metadata": {},
   "outputs": [],
   "source": [
    "import numpy as np\n",
    "from sklearn import linear_model\n",
    "import pandas as pd"
   ]
  },
  {
   "cell_type": "markdown",
   "metadata": {},
   "source": [
    "## Data loading"
   ]
  },
  {
   "cell_type": "code",
   "execution_count": 9,
   "metadata": {},
   "outputs": [],
   "source": [
    "data = np.genfromtxt('mystery.dat',\n",
    "                     dtype=None,\n",
    "                     delimiter=',')\n",
    "\n",
    "x = data[:,:100]\n",
    "y = data[:,100]"
   ]
  },
  {
   "cell_type": "markdown",
   "metadata": {},
   "source": [
    "## LASSO regression\n",
    "LASSO is used to fit a **sparse** regression model. By choosing an adequate normalization parameter $\\alpha$, most of the coefficients will be 0. Only the \"non-noise\" features will keep a non-0 value."
   ]
  },
  {
   "cell_type": "code",
   "execution_count": 83,
   "metadata": {},
   "outputs": [
    {
     "data": {
      "text/plain": [
       "Lasso(alpha=0.5, copy_X=True, fit_intercept=True, max_iter=1000,\n",
       "      normalize=False, positive=False, precompute=False, random_state=None,\n",
       "      selection='cyclic', tol=0.0001, warm_start=False)"
      ]
     },
     "execution_count": 83,
     "metadata": {},
     "output_type": "execute_result"
    }
   ],
   "source": [
    "# regr = linear_model.LinearRegression(normalize=True)\n",
    "regr = linear_model.Lasso(alpha=0.5, normalize=False)\n",
    "# regr = linear_model.Ridge(alpha=1, normalize=True) \n",
    "regr.fit(x, y)"
   ]
  },
  {
   "cell_type": "code",
   "execution_count": 84,
   "metadata": {},
   "outputs": [
    {
     "data": {
      "text/html": [
       "<div>\n",
       "<style scoped>\n",
       "    .dataframe tbody tr th:only-of-type {\n",
       "        vertical-align: middle;\n",
       "    }\n",
       "\n",
       "    .dataframe tbody tr th {\n",
       "        vertical-align: top;\n",
       "    }\n",
       "\n",
       "    .dataframe thead th {\n",
       "        text-align: right;\n",
       "    }\n",
       "</style>\n",
       "<table border=\"1\" class=\"dataframe\">\n",
       "  <thead>\n",
       "    <tr style=\"text-align: right;\">\n",
       "      <th></th>\n",
       "      <th>Coef</th>\n",
       "      <th>Abs Coef</th>\n",
       "    </tr>\n",
       "  </thead>\n",
       "  <tbody>\n",
       "    <tr>\n",
       "      <th>16</th>\n",
       "      <td>0.624240</td>\n",
       "      <td>0.624240</td>\n",
       "    </tr>\n",
       "    <tr>\n",
       "      <th>10</th>\n",
       "      <td>0.516384</td>\n",
       "      <td>0.516384</td>\n",
       "    </tr>\n",
       "    <tr>\n",
       "      <th>22</th>\n",
       "      <td>0.494728</td>\n",
       "      <td>0.494728</td>\n",
       "    </tr>\n",
       "    <tr>\n",
       "      <th>18</th>\n",
       "      <td>0.463721</td>\n",
       "      <td>0.463721</td>\n",
       "    </tr>\n",
       "    <tr>\n",
       "      <th>4</th>\n",
       "      <td>0.425928</td>\n",
       "      <td>0.425928</td>\n",
       "    </tr>\n",
       "    <tr>\n",
       "      <th>6</th>\n",
       "      <td>0.396567</td>\n",
       "      <td>0.396567</td>\n",
       "    </tr>\n",
       "    <tr>\n",
       "      <th>12</th>\n",
       "      <td>0.346247</td>\n",
       "      <td>0.346247</td>\n",
       "    </tr>\n",
       "    <tr>\n",
       "      <th>1</th>\n",
       "      <td>0.248419</td>\n",
       "      <td>0.248419</td>\n",
       "    </tr>\n",
       "    <tr>\n",
       "      <th>2</th>\n",
       "      <td>0.148583</td>\n",
       "      <td>0.148583</td>\n",
       "    </tr>\n",
       "    <tr>\n",
       "      <th>28</th>\n",
       "      <td>0.103012</td>\n",
       "      <td>0.103012</td>\n",
       "    </tr>\n",
       "    <tr>\n",
       "      <th>80</th>\n",
       "      <td>0.100485</td>\n",
       "      <td>0.100485</td>\n",
       "    </tr>\n",
       "    <tr>\n",
       "      <th>67</th>\n",
       "      <td>-0.000000</td>\n",
       "      <td>0.000000</td>\n",
       "    </tr>\n",
       "    <tr>\n",
       "      <th>74</th>\n",
       "      <td>0.000000</td>\n",
       "      <td>0.000000</td>\n",
       "    </tr>\n",
       "    <tr>\n",
       "      <th>72</th>\n",
       "      <td>0.000000</td>\n",
       "      <td>0.000000</td>\n",
       "    </tr>\n",
       "    <tr>\n",
       "      <th>71</th>\n",
       "      <td>0.000000</td>\n",
       "      <td>0.000000</td>\n",
       "    </tr>\n",
       "    <tr>\n",
       "      <th>70</th>\n",
       "      <td>0.000000</td>\n",
       "      <td>0.000000</td>\n",
       "    </tr>\n",
       "    <tr>\n",
       "      <th>69</th>\n",
       "      <td>0.000000</td>\n",
       "      <td>0.000000</td>\n",
       "    </tr>\n",
       "    <tr>\n",
       "      <th>68</th>\n",
       "      <td>0.000000</td>\n",
       "      <td>0.000000</td>\n",
       "    </tr>\n",
       "    <tr>\n",
       "      <th>73</th>\n",
       "      <td>0.000000</td>\n",
       "      <td>0.000000</td>\n",
       "    </tr>\n",
       "    <tr>\n",
       "      <th>0</th>\n",
       "      <td>0.000000</td>\n",
       "      <td>0.000000</td>\n",
       "    </tr>\n",
       "  </tbody>\n",
       "</table>\n",
       "</div>"
      ],
      "text/plain": [
       "        Coef  Abs Coef\n",
       "16  0.624240  0.624240\n",
       "10  0.516384  0.516384\n",
       "22  0.494728  0.494728\n",
       "18  0.463721  0.463721\n",
       "4   0.425928  0.425928\n",
       "6   0.396567  0.396567\n",
       "12  0.346247  0.346247\n",
       "1   0.248419  0.248419\n",
       "2   0.148583  0.148583\n",
       "28  0.103012  0.103012\n",
       "80  0.100485  0.100485\n",
       "67 -0.000000  0.000000\n",
       "74  0.000000  0.000000\n",
       "72  0.000000  0.000000\n",
       "71  0.000000  0.000000\n",
       "70  0.000000  0.000000\n",
       "69  0.000000  0.000000\n",
       "68  0.000000  0.000000\n",
       "73  0.000000  0.000000\n",
       "0   0.000000  0.000000"
      ]
     },
     "execution_count": 84,
     "metadata": {},
     "output_type": "execute_result"
    }
   ],
   "source": [
    "coef = regr.coef_\n",
    "coef = pd.DataFrame(coef, columns=['Coef'])\n",
    "coef['Abs Coef'] = np.abs(coef['Coef'])\n",
    "coef_sorted = coef.sort_values(by='Abs Coef', ascending=False)\n",
    "coef_sorted.head(20)"
   ]
  },
  {
   "cell_type": "code",
   "execution_count": 100,
   "metadata": {},
   "outputs": [
    {
     "name": "stdout",
     "output_type": "stream",
     "text": [
      "List of non-noise features:  [2, 3, 5, 7, 11, 13, 17, 19, 23, 29]\n"
     ]
    }
   ],
   "source": [
    "coef_sorted_10_1st_idx = coef_sorted.index[:10]\n",
    "print('List of non-noise features: ', \n",
    "      sorted(list(coef_sorted_10_1st_idx + 1)))"
   ]
  },
  {
   "cell_type": "code",
   "execution_count": null,
   "metadata": {},
   "outputs": [],
   "source": []
  }
 ],
 "metadata": {
  "kernelspec": {
   "display_name": "Python 3 (Spyder)",
   "language": "python3",
   "name": "python3"
  },
  "language_info": {
   "codemirror_mode": {
    "name": "ipython",
    "version": 3
   },
   "file_extension": ".py",
   "mimetype": "text/x-python",
   "name": "python",
   "nbconvert_exporter": "python",
   "pygments_lexer": "ipython3",
   "version": "3.7.6"
  }
 },
 "nbformat": 4,
 "nbformat_minor": 4
}

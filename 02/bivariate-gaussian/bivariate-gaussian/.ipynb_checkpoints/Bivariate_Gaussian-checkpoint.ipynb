{
 "cells": [
  {
   "cell_type": "markdown",
   "metadata": {},
   "source": [
    "# Experiments with the bivariate Gaussian"
   ]
  },
  {
   "cell_type": "markdown",
   "metadata": {},
   "source": [
    "In this notebook, we'll get a feel for the two-dimensional Gaussian by varying the covariance matrix, drawing random samples from the resulting distribution, and plotting contour lines of the density."
   ]
  },
  {
   "cell_type": "markdown",
   "metadata": {},
   "source": [
    "We begin, as always, by loading in standard packages."
   ]
  },
  {
   "cell_type": "code",
   "execution_count": 3,
   "metadata": {},
   "outputs": [],
   "source": [
    "%matplotlib inline\n",
    "import numpy as np\n",
    "import matplotlib.pyplot as plt\n",
    "from scipy.stats import multivariate_normal\n",
    "# installing packages for interactive graphs\n",
    "import ipywidgets as widgets\n",
    "from IPython.display import display\n",
    "from ipywidgets import interact, interactive, fixed, interact_manual, IntSlider"
   ]
  },
  {
   "cell_type": "markdown",
   "metadata": {},
   "source": [
    "The function **bivariate_plot** takes as input three parameters that uniquely specify a 2x2 covariance matrix:\n",
    "* `var1`, the variance of the first feature, `x1`\n",
    "* `var2`, the variance of the second feature, `x2`\n",
    "* `corr`, the correlation between `x1` and `x2`\n",
    "\n",
    "It then depicts a 2-d Gaussian whose mean is the origin and whose covariance matrix is given by these parameters. The display consists of 100 points randomly sampled from the Gaussian, as well as three representative contour lines of the density.\n",
    "\n",
    "The first line below, **interact_manual**, sets up an interactive widget that allows you to specify the parameters to **bivariate_plot** using sliders, and provides a button to execute the function."
   ]
  },
  {
   "cell_type": "code",
   "execution_count": 12,
   "metadata": {},
   "outputs": [
    {
     "data": {
      "application/vnd.jupyter.widget-view+json": {
       "model_id": "6cf8c38e26c845ca82cabed20ba271e2",
       "version_major": 2,
       "version_minor": 0
      },
      "text/plain": [
       "interactive(children=(IntSlider(value=3, description='std1', max=5, min=1), IntSlider(value=3, description='st…"
      ]
     },
     "metadata": {},
     "output_type": "display_data"
    }
   ],
   "source": [
    "@interact_manual(std1 = (1,5), std2 = (1,5), corr=(-0.999,0.999,0.001))\n",
    "def bivariate_plot(std1, std2, corr):\n",
    "    #\n",
    "    # Set parameters of Gaussian\n",
    "    var1, var2 = std1**2, std2**2\n",
    "    mu = [0,0]\n",
    "    covariance = corr * np.sqrt(var1) * np.sqrt(var2)\n",
    "    sigma = [[var1,covariance], [covariance,var2]]\n",
    "    np.set_printoptions(precision=2)\n",
    "    print(\"Covariance matrix:\")\n",
    "    print(np.around(sigma, decimals=2))\n",
    "    #\n",
    "    # Draw samples from the distribution\n",
    "    n = 100\n",
    "    x = np.random.multivariate_normal(mu,sigma,size=n)\n",
    "    #\n",
    "    # Set up a plot for the samples and the density contours\n",
    "    lim = 10.0\n",
    "    plt.xlim(-lim, lim) # limit along x1-axis\n",
    "    plt.ylim(-lim, lim) # limit along x2-axis    \n",
    "    plt.axes().set_aspect('equal', 'datalim')\n",
    "    #\n",
    "    # Plot the sampled points as blue dots\n",
    "    plt.plot(x[:,0], x[:,1], 'bo')\n",
    "    #\n",
    "    # To display contour lines, first define a fine grid\n",
    "    res = 200\n",
    "    xg = np.linspace(-lim, lim, res)\n",
    "    yg = np.linspace(-lim, lim, res)\n",
    "    z = np.zeros((res,res))\n",
    "    # Compute the density at each grid point\n",
    "    rv = multivariate_normal(mean=mu, cov=sigma)\n",
    "    for i in range(0,res):\n",
    "        for j in range(0,res):\n",
    "            z[j,i] = rv.logpdf([xg[i], yg[j]]) \n",
    "    sign, logdet = np.linalg.slogdet(sigma)\n",
    "    normalizer = -0.5 * (2 * np.log(6.28) + sign * logdet)\n",
    "    # Now plot a few contour lines of the density\n",
    "    for offset in range(1,4):\n",
    "        plt.contour(xg,yg,z, levels=[normalizer - offset], colors='r', linewidths=2.0, linestyles='solid')\n",
    "\n",
    "    # Finally, display\n",
    "    plt.show()\n",
    "    return mu, std1, std2, var1, var2, sigma, rv, z"
   ]
  },
  {
   "cell_type": "markdown",
   "metadata": {},
   "source": [
    "## <font color=\"magenta\">Quick exercise:</font>\n",
    "Experiment with the widget above to get a sense for how the different parameters influence the shape of the Gaussian. In particular, figure out the answers to the following questions.\n",
    "* Under what conditions does the Gaussian have contour lines that are perfect circles?\n",
    "* Under what conditions is the Gaussian tilted upwards?\n",
    "* Under what conditions is the Gaussian titled downwards?\n",
    "* Suppose the Gaussian has no tilt, and the contour lines are stretched vertically, so that the vertical stretch is twice the horizontal stretch. What can we conclude about the covariance matrix?\n",
    "\n",
    "*Note down the answers to these questions: you will enter them later, as part of this week's assignment.*"
   ]
  },
  {
   "cell_type": "markdown",
   "metadata": {},
   "source": [
    "* Contour lines are perfect circles when correlation between the 2 variables is 0 and they have the same variances\n",
    "* The Gaussian is tilted upward when the correlation is a positive number\n",
    "* The Gaussian is tilted downward when the correlation is a negative number\n",
    "* the covariance matrix is [[var1, 0], [0, var2]] and var2 = 4 * var1 (i.e. std2 = 2 * std1)"
   ]
  },
  {
   "cell_type": "code",
   "execution_count": 28,
   "metadata": {},
   "outputs": [
    {
     "name": "stdout",
     "output_type": "stream",
     "text": [
      "Covariance matrix:\n",
      "[[ 4.   6.4]\n",
      " [ 6.4 16. ]]\n"
     ]
    },
    {
     "name": "stderr",
     "output_type": "stream",
     "text": [
      "C:\\ProgramData\\Anaconda3\\lib\\site-packages\\ipykernel_launcher.py:21: MatplotlibDeprecationWarning: Adding an axes using the same arguments as a previous axes currently reuses the earlier instance.  In a future version, a new instance will always be created and returned.  Meanwhile, this warning can be suppressed, and the future behavior ensured, by passing a unique label to each axes instance.\n"
     ]
    },
    {
     "data": {
      "image/png": "[encoded data removed]",
      "text/plain": [
       "<Figure size 432x288 with 1 Axes>"
      ]
     },
     "metadata": {
      "needs_background": "light"
     },
     "output_type": "display_data"
    }
   ],
   "source": [
    "std1 = 2\n",
    "std2 = 4\n",
    "corr = 0.8\n",
    "mu, std1, std2, var1, var2, sigma, rv, z = bivariate_plot(std1, std2, corr)"
   ]
  },
  {
   "cell_type": "code",
   "execution_count": 33,
   "metadata": {},
   "outputs": [
    {
     "data": {
      "image/png": "[encoded data removed]",
      "text/plain": [
       "<Figure size 432x288 with 1 Axes>"
      ]
     },
     "metadata": {
      "needs_background": "light"
     },
     "output_type": "display_data"
    }
   ],
   "source": [
    "x, y = np.mgrid[-15:15:.1, -10:10:.1]\n",
    "pos = np.dstack((x, y))\n",
    "\n",
    "fig2 = plt.figure()\n",
    "ax2 = fig2.add_subplot(111)\n",
    "ax2.contourf(x, y, rv.pdf(pos))\n",
    "plt.show()"
   ]
  },
  {
   "cell_type": "code",
   "execution_count": null,
   "metadata": {},
   "outputs": [],
   "source": []
  }
 ],
 "metadata": {
  "kernelspec": {
   "display_name": "Python 3",
   "language": "python",
   "name": "python3"
  },
  "language_info": {
   "codemirror_mode": {
    "name": "ipython",
    "version": 3
   },
   "file_extension": ".py",
   "mimetype": "text/x-python",
   "name": "python",
   "nbconvert_exporter": "python",
   "pygments_lexer": "ipython3",
   "version": "3.7.6"
  },
  "toc": {
   "colors": {
    "hover_highlight": "#DAA520",
    "navigate_num": "#000000",
    "navigate_text": "#333333",
    "running_highlight": "#FF0000",
    "selected_highlight": "#FFD700",
    "sidebar_border": "#EEEEEE",
    "wrapper_background": "#FFFFFF"
   },
   "moveMenuLeft": true,
   "nav_menu": {
    "height": "48px",
    "width": "252px"
   },
   "navigate_menu": true,
   "number_sections": false,
   "sideBar": true,
   "threshold": 4,
   "toc_cell": false,
   "toc_section_display": "block",
   "toc_window_display": false,
   "widenNotebook": false
  },
  "widgets": {
   "state": {
    "afe25f4699a24d4c8c610d4320d308f1": {
     "views": [
      {
       "cell_index": 5
      }
     ]
    }
   },
   "version": "1.2.0"
  }
 },
 "nbformat": 4,
 "nbformat_minor": 1
}
